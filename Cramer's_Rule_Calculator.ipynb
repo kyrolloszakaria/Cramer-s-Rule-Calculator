{
  "cells": [
    {
      "cell_type": "markdown",
      "metadata": {
        "id": "view-in-github",
        "colab_type": "text"
      },
      "source": [
        "<a href=\"https://colab.research.google.com/github/kyrolloszakaria/Cramer-s-Rule-Calculator/blob/main/Cramer's_Rule_Calculator.ipynb\" target=\"_parent\"><img src=\"https://colab.research.google.com/assets/colab-badge.svg\" alt=\"Open In Colab\"/></a>"
      ]
    },
    {
      "cell_type": "code",
      "execution_count": 20,
      "metadata": {
        "id": "ewFIyyU4lZw0",
        "colab": {
          "base_uri": "https://localhost:8080/",
          "height": 17
        },
        "outputId": "ce128851-ad40-414e-948a-4bdca5cf7272"
      },
      "outputs": [
        {
          "output_type": "display_data",
          "data": {
            "text/plain": [
              "<IPython.core.display.HTML object>"
            ],
            "text/html": [
              "<script src='https://www.gstatic.com/external_hosted/mathjax/latest/MathJax.js?config=default'></script>"
            ]
          },
          "metadata": {}
        },
        {
          "output_type": "display_data",
          "data": {
            "text/plain": [
              "<IPython.core.display.HTML object>"
            ],
            "text/html": [
              "<script src='https://www.gstatic.com/external_hosted/mathjax/latest/MathJax.js?config=default'></script>"
            ]
          },
          "metadata": {}
        },
        {
          "output_type": "display_data",
          "data": {
            "text/plain": [
              "<IPython.core.display.HTML object>"
            ],
            "text/html": [
              "<script src='https://www.gstatic.com/external_hosted/mathjax/latest/MathJax.js?config=default'></script>"
            ]
          },
          "metadata": {}
        },
        {
          "output_type": "display_data",
          "data": {
            "text/plain": [
              "<IPython.core.display.HTML object>"
            ],
            "text/html": [
              "<script src='https://www.gstatic.com/external_hosted/mathjax/latest/MathJax.js?config=default'></script>"
            ]
          },
          "metadata": {}
        },
        {
          "output_type": "display_data",
          "data": {
            "text/plain": [
              "<IPython.core.display.HTML object>"
            ],
            "text/html": [
              "<script src='https://www.gstatic.com/external_hosted/mathjax/latest/MathJax.js?config=default'></script>"
            ]
          },
          "metadata": {}
        },
        {
          "output_type": "display_data",
          "data": {
            "text/plain": [
              "<IPython.core.display.HTML object>"
            ],
            "text/html": [
              "<script src='https://www.gstatic.com/external_hosted/mathjax/latest/MathJax.js?config=default'></script>"
            ]
          },
          "metadata": {}
        }
      ],
      "source": [
        "import numpy as np\n",
        "import random\n",
        "import math\n",
        "import os\n",
        "import fractions\n",
        "\n",
        "#!pip install sagemath\n",
        "# !pip install sympy\n",
        "# !pip install pylatex\n",
        "# !pip install pylatex[matrices]\n",
        "# python -m pip install pylatex\n",
        "from sympy import *\n",
        "from sympy.abc import x, y, mu, r, tau\n",
        "from IPython.display import display, Math, Latex\n",
        "import sys\n",
        "\n",
        "\n",
        "\n",
        "# from pylatex import Document, Section, Subsection, Tabular\n",
        "# from pylatex import Math, TikZ, Axis, Plot, Figure, Matrix, Alignat\n",
        "# from pylatex.utils import italic\n",
        "\n",
        "init_printing(use_unicode=True)\n",
        "# doc=Document(documentclass='article')\n",
        " "
      ]
    },
    {
      "cell_type": "code",
      "execution_count": 18,
      "metadata": {
        "id": "Z4YKyIH6WY2-",
        "colab": {
          "base_uri": "https://localhost:8080/",
          "height": 17
        },
        "outputId": "c9adc27c-2ec2-4fef-9956-a78fc122a06f"
      },
      "outputs": [
        {
          "output_type": "display_data",
          "data": {
            "text/plain": [
              "<IPython.core.display.HTML object>"
            ],
            "text/html": [
              "<script src='https://www.gstatic.com/external_hosted/mathjax/latest/MathJax.js?config=default'></script>"
            ]
          },
          "metadata": {}
        },
        {
          "output_type": "display_data",
          "data": {
            "text/plain": [
              "<IPython.core.display.HTML object>"
            ],
            "text/html": [
              "<script src='https://www.gstatic.com/external_hosted/mathjax/latest/MathJax.js?config=default'></script>"
            ]
          },
          "metadata": {}
        },
        {
          "output_type": "display_data",
          "data": {
            "text/plain": [
              "<IPython.core.display.HTML object>"
            ],
            "text/html": [
              "<script src='https://www.gstatic.com/external_hosted/mathjax/latest/MathJax.js?config=default'></script>"
            ]
          },
          "metadata": {}
        },
        {
          "output_type": "display_data",
          "data": {
            "text/plain": [
              "<IPython.core.display.HTML object>"
            ],
            "text/html": [
              "<script src='https://www.gstatic.com/external_hosted/mathjax/latest/MathJax.js?config=default'></script>"
            ]
          },
          "metadata": {}
        }
      ],
      "source": [
        "def get_sub(x):\n",
        "    normal = \"ABCDEFGHIJKLMNOPQRSTUVWXYZabcdefghijklmnopqrstuvwxyz0123456789+-=()\"\n",
        "    sub_s = \"ₐ₈CDₑբGₕᵢⱼₖₗₘₙₒₚQᵣₛₜᵤᵥwₓᵧZₐ♭꜀ᑯₑբ₉ₕᵢⱼₖₗₘₙₒₚ૧ᵣₛₜᵤᵥwₓᵧ₂₀₁₂₃₄₅₆₇₈₉₊₋₌₍₎\"\n",
        "    res = x.maketrans(''.join(normal), ''.join(sub_s))\n",
        "    return x.translate(res)\n",
        "def get_super(x):\n",
        "    normal = \"ABCDEFGHIJKLMNOPQRSTUVWXYZabcdefghijklmnopqrstuvwxyz0123456789+-=()\"\n",
        "    super_s = \"ᴬᴮᶜᴰᴱᶠᴳᴴᴵᴶᴷᴸᴹᴺᴼᴾQᴿˢᵀᵁⱽᵂˣʸᶻᵃᵇᶜᵈᵉᶠᵍʰᶦʲᵏˡᵐⁿᵒᵖ۹ʳˢᵗᵘᵛʷˣʸᶻ⁰¹²³⁴⁵⁶⁷⁸⁹⁺⁻⁼⁽⁾\"\n",
        "    res = x.maketrans(''.join(normal), ''.join(super_s))\n",
        "    return x.translate(res)\n",
        "from IPython.display import Math, HTML\n",
        "\n",
        "def load_mathjax_in_cell_output():\n",
        "  display(HTML(\"<script src='https://www.gstatic.com/external_hosted/\"\n",
        "               \"mathjax/latest/MathJax.js?config=default'></script>\"))\n",
        "get_ipython().events.register('pre_run_cell', load_mathjax_in_cell_output)\n",
        "\n",
        "def round_to(n,p):\n",
        "  cor = 0.5 if n >= 0 else -0.5\n",
        "  return int(n / p + cor) * p\n",
        "def solve_cramer(co_matrix,const_matrix,isChecked):\n",
        "  sub_matrices = []\n",
        "  sub_dets = []\n",
        "  variables_values = []\n",
        "  for i in range(len(co_matrix)):\n",
        "    temp_matrix = co_matrix \n",
        "    temp_matrix = np.array(temp_matrix)\n",
        "    temp_matrix[:, i] =  const_matrix # i is\n",
        "    sub_matrices.append(temp_matrix)\n",
        "    temp_det = float(np.linalg.det(temp_matrix))\n",
        "    temp_det = round_to(temp_det,0.0001)\n",
        "    sub_dets.append(float(temp_det))\n",
        "    co_matrix_det = float(np.linalg.det(co_matrix))\n",
        "    co_matrix_det = round_to(co_matrix_det,0.0001)\n",
        "    temp_value = float(float(temp_det)/float(co_matrix_det))\n",
        "    temp_det = round_to(temp_det,0.0001)\n",
        "    variables_values.append(temp_value)\n",
        "  if(isChecked == 0):\n",
        "    return variables_values\n",
        "  for i in range(len(co_matrix)):\n",
        "    print(\"X{} = \".format(get_sub(str(i))), variables_values[i])\n",
        "  steps_option = str(input(\"Enter (Y) to see cramer's steps, otherwise, enter (N)\")).upper()\n",
        "  if steps_option == \"Y\":\n",
        "    print(\"since the main matrix we have is: \\n\")\n",
        "    pprint(Matrix(co_matrix))\n",
        "    print(\"\\n whose determinent = \",co_matrix_det)\n",
        "    for i in range(len(co_matrix)):\n",
        "      print(\"for variable X{} its corresponding matrix is by replacing the main matrix column\",i,\" by the constants matrix \\n\".format(get_sub(str(i))))\n",
        "      print(\"then, we get the matrix: \\n\")\n",
        "      pprint(Matrix(sub_matrices[i]))\n",
        "      print(\"\\n whose determinent = \", sub_dets[i])\n",
        "      print(\"Then, according to Cramer's rule, we have X{} = det(A{}) / det(A) = \".format(get_sub(str(i)),get_sub(str(i))) ,sub_dets[i], \"/\", co_matrix_det, \"=\", variables_values[i] )\n",
        "      print(\"\\n\\n\\n\")\n",
        "  elif steps_option == \"N\":\n",
        "    return;\n"
      ]
    },
    {
      "cell_type": "code",
      "execution_count": 25,
      "metadata": {
        "colab": {
          "base_uri": "https://localhost:8080/",
          "height": 139
        },
        "id": "NkqSzvpy4HUf",
        "outputId": "c10048fb-6d78-44fd-ee6b-3309d9e9b20e"
      },
      "outputs": [
        {
          "output_type": "display_data",
          "data": {
            "text/plain": [
              "<IPython.core.display.HTML object>"
            ],
            "text/html": [
              "<script src='https://www.gstatic.com/external_hosted/mathjax/latest/MathJax.js?config=default'></script>"
            ]
          },
          "metadata": {}
        },
        {
          "output_type": "display_data",
          "data": {
            "text/plain": [
              "<IPython.core.display.HTML object>"
            ],
            "text/html": [
              "<script src='https://www.gstatic.com/external_hosted/mathjax/latest/MathJax.js?config=default'></script>"
            ]
          },
          "metadata": {}
        },
        {
          "output_type": "display_data",
          "data": {
            "text/plain": [
              "<IPython.core.display.HTML object>"
            ],
            "text/html": [
              "<script src='https://www.gstatic.com/external_hosted/mathjax/latest/MathJax.js?config=default'></script>"
            ]
          },
          "metadata": {}
        },
        {
          "output_type": "display_data",
          "data": {
            "text/plain": [
              "<IPython.core.display.HTML object>"
            ],
            "text/html": [
              "<script src='https://www.gstatic.com/external_hosted/mathjax/latest/MathJax.js?config=default'></script>"
            ]
          },
          "metadata": {}
        },
        {
          "output_type": "display_data",
          "data": {
            "text/plain": [
              "<IPython.core.display.HTML object>"
            ],
            "text/html": [
              "<script src='https://www.gstatic.com/external_hosted/mathjax/latest/MathJax.js?config=default'></script>"
            ]
          },
          "metadata": {}
        },
        {
          "output_type": "display_data",
          "data": {
            "text/plain": [
              "<IPython.core.display.HTML object>"
            ],
            "text/html": [
              "<script src='https://www.gstatic.com/external_hosted/mathjax/latest/MathJax.js?config=default'></script>"
            ]
          },
          "metadata": {}
        },
        {
          "name": "stdout",
          "output_type": "stream",
          "text": [
            " Welcome to our Cramer program: \n",
            "\n",
            "1- solve linear equations\n",
            "2- proof cramers's rule\n",
            "3- Exercises on cramers's rule\n",
            "4- exit\n",
            "3\n"
          ]
        }
      ],
      "source": [
        "print(\" Welcome to our Cramer program: \\n\")\n",
        "print(\"1- solve linear equations\")\n",
        "print(\"2- proof cramers's rule\")\n",
        "print(\"3- Exercises on cramers's rule\")\n",
        "print(\"4- exit\")\n",
        "program_option = int(input())"
      ]
    },
    {
      "cell_type": "code",
      "execution_count": 24,
      "metadata": {
        "colab": {
          "base_uri": "https://localhost:8080/",
          "height": 17
        },
        "id": "9L4RyjtqmPff",
        "outputId": "afc574d7-74ef-444c-c8b8-f409b9415c61"
      },
      "outputs": [
        {
          "output_type": "display_data",
          "data": {
            "text/plain": [
              "<IPython.core.display.HTML object>"
            ],
            "text/html": [
              "<script src='https://www.gstatic.com/external_hosted/mathjax/latest/MathJax.js?config=default'></script>"
            ]
          },
          "metadata": {}
        },
        {
          "output_type": "display_data",
          "data": {
            "text/plain": [
              "<IPython.core.display.HTML object>"
            ],
            "text/html": [
              "<script src='https://www.gstatic.com/external_hosted/mathjax/latest/MathJax.js?config=default'></script>"
            ]
          },
          "metadata": {}
        },
        {
          "output_type": "display_data",
          "data": {
            "text/plain": [
              "<IPython.core.display.HTML object>"
            ],
            "text/html": [
              "<script src='https://www.gstatic.com/external_hosted/mathjax/latest/MathJax.js?config=default'></script>"
            ]
          },
          "metadata": {}
        },
        {
          "output_type": "display_data",
          "data": {
            "text/plain": [
              "<IPython.core.display.HTML object>"
            ],
            "text/html": [
              "<script src='https://www.gstatic.com/external_hosted/mathjax/latest/MathJax.js?config=default'></script>"
            ]
          },
          "metadata": {}
        },
        {
          "output_type": "display_data",
          "data": {
            "text/plain": [
              "<IPython.core.display.HTML object>"
            ],
            "text/html": [
              "<script src='https://www.gstatic.com/external_hosted/mathjax/latest/MathJax.js?config=default'></script>"
            ]
          },
          "metadata": {}
        },
        {
          "output_type": "display_data",
          "data": {
            "text/plain": [
              "<IPython.core.display.HTML object>"
            ],
            "text/html": [
              "<script src='https://www.gstatic.com/external_hosted/mathjax/latest/MathJax.js?config=default'></script>"
            ]
          },
          "metadata": {}
        }
      ],
      "source": [
        "if program_option == 1:\n",
        "  print(\"This section of the program is designed to solve variables of some linear equations.\")\n",
        "  print(\"Would you like to enter the equations OR to fill in the square matrix \\n\")\n",
        "  print(\" 1- enter the equations (each in 1 line) \")\n",
        "  print(\" 2- fill in the matrix \")\n",
        "  entry_option = int(input())\n"
      ]
    },
    {
      "cell_type": "code",
      "execution_count": 23,
      "metadata": {
        "id": "1BvXloOs0tYp",
        "colab": {
          "base_uri": "https://localhost:8080/",
          "height": 421
        },
        "outputId": "a61c618a-9c67-4910-cf1e-cf8a30ee0971"
      },
      "outputs": [
        {
          "output_type": "display_data",
          "data": {
            "text/plain": [
              "<IPython.core.display.HTML object>"
            ],
            "text/html": [
              "<script src='https://www.gstatic.com/external_hosted/mathjax/latest/MathJax.js?config=default'></script>"
            ]
          },
          "metadata": {}
        },
        {
          "output_type": "display_data",
          "data": {
            "text/plain": [
              "<IPython.core.display.HTML object>"
            ],
            "text/html": [
              "<script src='https://www.gstatic.com/external_hosted/mathjax/latest/MathJax.js?config=default'></script>"
            ]
          },
          "metadata": {}
        },
        {
          "output_type": "display_data",
          "data": {
            "text/plain": [
              "<IPython.core.display.HTML object>"
            ],
            "text/html": [
              "<script src='https://www.gstatic.com/external_hosted/mathjax/latest/MathJax.js?config=default'></script>"
            ]
          },
          "metadata": {}
        },
        {
          "output_type": "display_data",
          "data": {
            "text/plain": [
              "<IPython.core.display.HTML object>"
            ],
            "text/html": [
              "<script src='https://www.gstatic.com/external_hosted/mathjax/latest/MathJax.js?config=default'></script>"
            ]
          },
          "metadata": {}
        },
        {
          "output_type": "display_data",
          "data": {
            "text/plain": [
              "<IPython.core.display.HTML object>"
            ],
            "text/html": [
              "<script src='https://www.gstatic.com/external_hosted/mathjax/latest/MathJax.js?config=default'></script>"
            ]
          },
          "metadata": {}
        },
        {
          "output_type": "display_data",
          "data": {
            "text/plain": [
              "<IPython.core.display.HTML object>"
            ],
            "text/html": [
              "<script src='https://www.gstatic.com/external_hosted/mathjax/latest/MathJax.js?config=default'></script>"
            ]
          },
          "metadata": {}
        },
        {
          "output_type": "error",
          "ename": "KeyboardInterrupt",
          "evalue": "ignored",
          "traceback": [
            "\u001b[0;31m---------------------------------------------------------------------------\u001b[0m",
            "\u001b[0;31mKeyboardInterrupt\u001b[0m                         Traceback (most recent call last)",
            "\u001b[0;32m<ipython-input-23-e8c403cf9580>\u001b[0m in \u001b[0;36m<module>\u001b[0;34m\u001b[0m\n\u001b[1;32m      3\u001b[0m   \u001b[0mco_matrix\u001b[0m \u001b[0;34m=\u001b[0m \u001b[0;34m[\u001b[0m\u001b[0;34m]\u001b[0m\u001b[0;34m\u001b[0m\u001b[0;34m\u001b[0m\u001b[0m\n\u001b[1;32m      4\u001b[0m   \u001b[0mconst_matrix\u001b[0m \u001b[0;34m=\u001b[0m \u001b[0;34m[\u001b[0m\u001b[0;34m]\u001b[0m\u001b[0;34m\u001b[0m\u001b[0;34m\u001b[0m\u001b[0m\n\u001b[0;32m----> 5\u001b[0;31m   \u001b[0mR\u001b[0m \u001b[0;34m=\u001b[0m \u001b[0mint\u001b[0m\u001b[0;34m(\u001b[0m\u001b[0minput\u001b[0m\u001b[0;34m(\u001b[0m\u001b[0;34m\"Enter the number of variables you have (which supposedly will be equal to the number of equations that will be solved\"\u001b[0m\u001b[0;34m)\u001b[0m\u001b[0;34m)\u001b[0m\u001b[0;34m\u001b[0m\u001b[0;34m\u001b[0m\u001b[0m\n\u001b[0m\u001b[1;32m      6\u001b[0m   \u001b[0mC\u001b[0m \u001b[0;34m=\u001b[0m \u001b[0mR\u001b[0m\u001b[0;34m\u001b[0m\u001b[0;34m\u001b[0m\u001b[0m\n\u001b[1;32m      7\u001b[0m   \u001b[0;32mfor\u001b[0m \u001b[0mi\u001b[0m \u001b[0;32min\u001b[0m \u001b[0mrange\u001b[0m\u001b[0;34m(\u001b[0m\u001b[0mR\u001b[0m\u001b[0;34m)\u001b[0m\u001b[0;34m:\u001b[0m\u001b[0;34m\u001b[0m\u001b[0;34m\u001b[0m\u001b[0m\n",
            "\u001b[0;32m/usr/local/lib/python3.7/dist-packages/ipykernel/kernelbase.py\u001b[0m in \u001b[0;36mraw_input\u001b[0;34m(self, prompt)\u001b[0m\n\u001b[1;32m    861\u001b[0m             \u001b[0mself\u001b[0m\u001b[0;34m.\u001b[0m\u001b[0m_parent_ident\u001b[0m\u001b[0;34m,\u001b[0m\u001b[0;34m\u001b[0m\u001b[0;34m\u001b[0m\u001b[0m\n\u001b[1;32m    862\u001b[0m             \u001b[0mself\u001b[0m\u001b[0;34m.\u001b[0m\u001b[0m_parent_header\u001b[0m\u001b[0;34m,\u001b[0m\u001b[0;34m\u001b[0m\u001b[0;34m\u001b[0m\u001b[0m\n\u001b[0;32m--> 863\u001b[0;31m             \u001b[0mpassword\u001b[0m\u001b[0;34m=\u001b[0m\u001b[0;32mFalse\u001b[0m\u001b[0;34m,\u001b[0m\u001b[0;34m\u001b[0m\u001b[0;34m\u001b[0m\u001b[0m\n\u001b[0m\u001b[1;32m    864\u001b[0m         )\n\u001b[1;32m    865\u001b[0m \u001b[0;34m\u001b[0m\u001b[0m\n",
            "\u001b[0;32m/usr/local/lib/python3.7/dist-packages/ipykernel/kernelbase.py\u001b[0m in \u001b[0;36m_input_request\u001b[0;34m(self, prompt, ident, parent, password)\u001b[0m\n\u001b[1;32m    902\u001b[0m             \u001b[0;32mexcept\u001b[0m \u001b[0mKeyboardInterrupt\u001b[0m\u001b[0;34m:\u001b[0m\u001b[0;34m\u001b[0m\u001b[0;34m\u001b[0m\u001b[0m\n\u001b[1;32m    903\u001b[0m                 \u001b[0;31m# re-raise KeyboardInterrupt, to truncate traceback\u001b[0m\u001b[0;34m\u001b[0m\u001b[0;34m\u001b[0m\u001b[0;34m\u001b[0m\u001b[0m\n\u001b[0;32m--> 904\u001b[0;31m                 \u001b[0;32mraise\u001b[0m \u001b[0mKeyboardInterrupt\u001b[0m\u001b[0;34m(\u001b[0m\u001b[0;34m\"Interrupted by user\"\u001b[0m\u001b[0;34m)\u001b[0m \u001b[0;32mfrom\u001b[0m \u001b[0;32mNone\u001b[0m\u001b[0;34m\u001b[0m\u001b[0;34m\u001b[0m\u001b[0m\n\u001b[0m\u001b[1;32m    905\u001b[0m             \u001b[0;32mexcept\u001b[0m \u001b[0mException\u001b[0m \u001b[0;32mas\u001b[0m \u001b[0me\u001b[0m\u001b[0;34m:\u001b[0m\u001b[0;34m\u001b[0m\u001b[0;34m\u001b[0m\u001b[0m\n\u001b[1;32m    906\u001b[0m                 \u001b[0mself\u001b[0m\u001b[0;34m.\u001b[0m\u001b[0mlog\u001b[0m\u001b[0;34m.\u001b[0m\u001b[0mwarning\u001b[0m\u001b[0;34m(\u001b[0m\u001b[0;34m\"Invalid Message:\"\u001b[0m\u001b[0;34m,\u001b[0m \u001b[0mexc_info\u001b[0m\u001b[0;34m=\u001b[0m\u001b[0;32mTrue\u001b[0m\u001b[0;34m)\u001b[0m\u001b[0;34m\u001b[0m\u001b[0;34m\u001b[0m\u001b[0m\n",
            "\u001b[0;31mKeyboardInterrupt\u001b[0m: Interrupted by user"
          ]
        }
      ],
      "source": [
        "# getting input from the user\n",
        "if (entry_option == 1):\n",
        "  co_matrix = []\n",
        "  const_matrix = []\n",
        "  R = int(input(\"Enter the number of variables you have (which supposedly will be equal to the number of equations that will be solved\"))\n",
        "  C = R\n",
        "  for i in range(R):\n",
        "    print(\"equation a{}:\".format(get_sub(str(i)), end =''))\n",
        "    for j in range(C-1):\n",
        "      print(' C{}X{} + '.format(get_sub(str(j)),get_sub(str(j))), end ='') \n",
        "    print(' C{}X{} = '.format(get_sub(str(j+1)),get_sub(str(j+1))), end ='')\n",
        "    print(\" b{}\".format(get_sub(str(i))))\n",
        "    print(\"enter the values of coefficients and result of equation\",i)\n",
        "    row = []\n",
        "    for j in range(C):\n",
        "      print(' C{} ='.format(get_sub(str(j))), end= \"\")\n",
        "      row.append(int(input()))\n",
        "    co_matrix.append(row)\n",
        "    print('constant b{} ='.format(get_sub(str(i))), end = \"\")\n",
        "    b = int(input())\n",
        "    const_matrix.append(b)\n",
        "  \n",
        "\n",
        "elif (entry_option == 2):\n",
        "  R = int(input(\"Enter the dimension of your coefficients square matrix\"))\n",
        "  C = R\n",
        "  \n",
        "  \n",
        "  # Initialize coefficients matrix\n",
        "  co_matrix = []\n",
        "  print(\"Enter the entries of the coefficients matrix row-wise:\")\n",
        "\n",
        "  for i in range(R):    \n",
        "    a =[]\n",
        "    for j in range(C):    \n",
        "      a.append(int(input()))\n",
        "    co_matrix.append(a)\n",
        "  \n",
        "# Initialize constants matrix\n",
        "  const_matrix = []\n",
        "  print(\"Enter the entries of the constant matrix row-wise:\")\n",
        "\n",
        "  for i in range(R):      \n",
        "    a = int(input())\n",
        "    const_matrix.append(a)\n",
        "  "
      ]
    },
    {
      "cell_type": "code",
      "execution_count": null,
      "metadata": {
        "id": "xI2Xz-3ctN6v"
      },
      "outputs": [],
      "source": [
        "# validating the coefficients matrix from the user. \n",
        "while True:\n",
        "  # For printing the matrix\n",
        "  print(\"here is the coefficients matrix you have entered: \\n\")\n",
        "  pprint(Matrix(co_matrix))\n",
        "  print(\"would you like to edit the matrix ? \")\n",
        "  print(\"(A) to edit a single cell \\n(R) to edit an entire row \\n(C) to edit an entire column \\n(N) to confirm the correctness of the matrix\")\n",
        "  edit = str(input()).upper()\n",
        "  if edit == \"N\":\n",
        "    break\n",
        "  elif edit == \"R\":\n",
        "    edit_r = int(input(\"enter the row to edit (rows starts from 0)\"))\n",
        "    new_row =[]\n",
        "    for j in range(C):      # A for loop for column entries\n",
        "      new_row.append(int(input()))\n",
        "    co_matrix = np.array(co_matrix)\n",
        "    co_matrix[edit_r:,] = new_row\n",
        "  elif edit == \"C\": \n",
        "    edit_c = int(input(\"enter the column to edit (columns starts from 0)\"))\n",
        "    new_col =[]\n",
        "    for i in range(R):      # A for loop for column entries\n",
        "      new_col.append(int(input()))\n",
        "    co_matrix[:, edit_c] =  new_col\n",
        "  elif edit == \"A\": \n",
        "    edit_r = int(input(\"enter the row to edit (rows starts from 0)\"))\n",
        "    edit_c = int(input(\"enter the column to edit (columns starts from 0)\"))\n",
        "    new_cell = int(input(\"enter the new value\"))\n",
        "    co_matrix[edit_r][edit_c] =  new_cell\n",
        "    \n",
        "\n",
        "# validating the constants matrix from the user\n",
        "while True:\n",
        "  # For printing the matrix\n",
        "  print(\"here is the constants matrix you have entered: \\n\")\n",
        "  const_Matrix_vertical = []\n",
        "  for i in range(R):\n",
        "    const_Matrix_vertical.append(const_matrix[i])\n",
        "  pprint(Matrix(const_Matrix_vertical))\n",
        "  print(\"would you like to edit the matrix ? \")\n",
        "  edit_option = str(input(\"(A) to edit a single cell \\n(C) to edit an entire matrix \\n(N) to confirm the correctness of the matrix\")).upper()\n",
        "  if edit_option == \"N\":\n",
        "    break\n",
        "  elif edit_option == \"A\":\n",
        "    edit_r = int(input(\"enter the row to edit (rows starts from 0)\"))\n",
        "    new_row = int(input(\"the new value is: \"))\n",
        "    const_matrix[edit_r] = new_row\n",
        "\n",
        "  elif edit_option == \"C\": \n",
        "    new_col =[]\n",
        "    for i in range(R):      # A for loop for column entries\n",
        "      new_col.append(int(input()))\n",
        "    const_matrix = new_col\n",
        "\n"
      ]
    },
    {
      "cell_type": "code",
      "execution_count": null,
      "metadata": {
        "id": "YGReOVSJm96G"
      },
      "outputs": [],
      "source": [
        "# testing the validity of cramer's rule to solve the system of linear equations. \n",
        "def validaInvertible(co_matrix):\n",
        "  co_matrix_dett = float(np.linalg.det(co_matrix))\n",
        "  co_matrix_dett = round_to(co_matrix_dett,0.0001)\n",
        "  if (co_matrix_dett == 0):\n",
        "    return co_matrix_dett\n",
        "  else:\n",
        "    return co_matrix_dett\n",
        "\n",
        "co_matrix_det = validaInvertible(co_matrix)\n",
        "if  co_matrix_det != 0:\n",
        "      print(\"the determinent of the matrix is: \", co_matrix_det, \" which means we solve this system of linear equations using both EROs method and cramer's rule method.\")\n",
        "else:\n",
        "      print(\" the matrix you have entered has a (zero) determinent, which means we cannot use cramer's rule or the normal method to solve it, as the system of linear equations might have no solution or infinitely many solutions.\")\n",
        "print(\" which method would you like to solve the system of linear equations:\")\n",
        "print(\" 1- Cramer's rule \")\n",
        "print(\" 2- EROs \")\n",
        "solving_option = int(input())\n"
      ]
    },
    {
      "cell_type": "code",
      "source": [
        "#testttt\n",
        "\n",
        "#test determinant funcion\n",
        "test_matrix = [[1,2],\n",
        "               [3,4]]\n",
        "test_det = float(np.linalg.det(test_matrix))\n",
        "test_det = round_to(test_det,0.0001)\n",
        "print(test_det)"
      ],
      "metadata": {
        "id": "UiZ8eV1Wnj7p"
      },
      "execution_count": null,
      "outputs": []
    },
    {
      "cell_type": "code",
      "source": [
        "def round_to(n,p):\n",
        "  cor = 0.5 if n >= 0 else -0.5\n",
        "  return int(n / p + cor) * p\n",
        "\n",
        "\n",
        "# solving the linear equations using cramer's method\n",
        "if solving_option == 1:\n",
        "  # co_matrix\n",
        "  # co_matrix_det\n",
        "  print(\"The solution is: \")\n",
        "  solve_cramer(co_matrix,const_matrix,1)\n",
        "\n",
        "  \n",
        "\n",
        "  \n",
        "    \n",
        "\n",
        "\n",
        "\n",
        "\n"
      ],
      "metadata": {
        "id": "OXXRoKZNnYcd"
      },
      "execution_count": null,
      "outputs": []
    },
    {
      "cell_type": "code",
      "execution_count": null,
      "metadata": {
        "id": "3HXdC6uI1ahe"
      },
      "outputs": [],
      "source": [
        "# solving the linear equations using the normal method \n",
        "if solving_option == 2:\n",
        "  print(\"currently, not supported by our program\")\n",
        "  "
      ]
    },
    {
      "cell_type": "code",
      "execution_count": null,
      "metadata": {
        "id": "84w0U4P16MV6"
      },
      "outputs": [],
      "source": [
        "# cramer's proof\n",
        "# Online Python compiler (interpreter) to run Python online.\n",
        "# Write Python 3 code in this online editor and run it.\n",
        "# cramer's proof\n",
        "# if program_option == 2:\n",
        "print(\"this section of the project is dedicated to proof cramer's rule\\n\")\n",
        "print(\"Please enter the corresponding numbers for the concpets you fully underestand:\\n\")\n",
        "print(\"1. A matrix.\\n2. The Square Matrix\\n3. The Identity Matrix\\n4. The determinant of a matrix.\\n5. The transpose of a matrix.\\n6. The inverse of a matrix.\\n7. Singular Matrix\\n8. Cramer's Rule\")\n",
        "print(\"please enter \\'d\\' after your last choice\")\n",
        "\n",
        "arr = []\n",
        "while True:\n",
        "    a = str(input())\n",
        "    if a == 'd':\n",
        "        break\n",
        "    arr.append(a)\n",
        "def_list = [\"A matrix is an ordered rectangular array of real numbers, partitioned into rows and columns.\\n\",\n",
        "            \"A matrix is \\“square\\” if the number of rows equals the number of columns, equivalently, if it has size n × n\\n\",\n",
        "            \"it is the diagonal matrix whose main-diagonal consists of 1s.So, In has the shape:\\n\", #add I_n\n",
        "            \"The Determinant is a real number that can be assiociated with every square matrix. The use of determinants arose from the recognition of special patterns that occur in the solutions of systems of linear equations.\\n\",\n",
        "             \"The Transpose of a matrix is formed by writing its rows as columns.\\n\",\n",
        "             \"The Inverse of matrix A of size n × n exists when there exists an n × n matrix B such that AB = BA = In where In is the identity matrix of order.\\n\",\n",
        "            \"Singular Matrix is an invertable matrix. Matrix A is Singular Matrix iff there is no matrix B such that AB = I\\n\",\n",
        "            \"You are good to go :D\\n\"]\n",
        "if \"8\" in arr:\n",
        "    print(def_list[7])\n",
        "for x in range(7):\n",
        "    if str(x+1) not in arr:\n",
        "        print(int(x+1),\": \",def_list[x])\n",
        "print(\"\\n\\t\\t\\tNow You Are fully equipped for Cramer's Rule Proof\\n\")\n"
      ]
    },
    {
      "cell_type": "code",
      "source": [
        "print(\"Cramer\\'s rule: If a system of n linear equations in n variables has a coefficient matrix A with a nonzero determinant ∣A∣, then the solution of the system is\")\n",
        "print(\"\\n\\t\\t\\tX{} = det(A{})/det(A), X{} = det(A{})/det(A), ...,\\n\\t\\t\\t\\t\\tX{} = det(A{})/det(A)\".format(get_sub(\"1\"),get_sub(\"1\"),get_sub(\"2\"),get_sub(\"2\"),get_sub(\"n\"),get_sub(\"n\"),))\n",
        "\n",
        "\n",
        "\n",
        "print(\"Proof: Let the system be represented by AX = B\", end = \" \")\n",
        "\n",
        "print(\"The determinant of A is nonzero, so you can write:\")\n",
        "\n",
        "x, y, z, B, A = symbols(\"x y z B A\")\n",
        "adj=Symbol('adj(A)') \n",
        "det = Symbol('|A|')\n",
        "#print(\"\\t\\t\\t\\t\\t\",end=\"\")\n",
        "pprint(Eq(x,Eq(A**(-1)*B,(det**(-1)*adj)*B)))\n",
        "print(\"If the entries of B are b{}, b{}, . . . , b{}, then x{} = (1/∣A∣)*(b{}C{} + b{}C{} + . . . + b{}C{}), but the sum (in parentheses) is precisely the cofactor expansion of Ai, which means that xi = ∣Ai∣\u0019∣A∣, and the proof is complete. \".format(get_sub(\"1\"),get_sub(\"2\"),get_sub(\"n\"),get_sub(\"1\"),get_sub(\"1\"),get_sub(\"1i\"),get_sub(\"2\"),get_sub(\"2i\"),get_sub(\"n\"),get_sub(\"ni\"),))\n"
      ],
      "metadata": {
        "id": "BV0C9T4B_Ry2"
      },
      "execution_count": null,
      "outputs": []
    },
    {
      "cell_type": "code",
      "execution_count": 26,
      "metadata": {
        "colab": {
          "base_uri": "https://localhost:8080/",
          "height": 17
        },
        "id": "aWvfK8Zf5_7m",
        "outputId": "a43d5eb2-debd-4683-a84f-21920b860918"
      },
      "outputs": [
        {
          "output_type": "display_data",
          "data": {
            "text/plain": [
              "<IPython.core.display.HTML object>"
            ],
            "text/html": [
              "<script src='https://www.gstatic.com/external_hosted/mathjax/latest/MathJax.js?config=default'></script>"
            ]
          },
          "metadata": {}
        },
        {
          "output_type": "display_data",
          "data": {
            "text/plain": [
              "<IPython.core.display.HTML object>"
            ],
            "text/html": [
              "<script src='https://www.gstatic.com/external_hosted/mathjax/latest/MathJax.js?config=default'></script>"
            ]
          },
          "metadata": {}
        },
        {
          "output_type": "display_data",
          "data": {
            "text/plain": [
              "<IPython.core.display.HTML object>"
            ],
            "text/html": [
              "<script src='https://www.gstatic.com/external_hosted/mathjax/latest/MathJax.js?config=default'></script>"
            ]
          },
          "metadata": {}
        },
        {
          "output_type": "display_data",
          "data": {
            "text/plain": [
              "<IPython.core.display.HTML object>"
            ],
            "text/html": [
              "<script src='https://www.gstatic.com/external_hosted/mathjax/latest/MathJax.js?config=default'></script>"
            ]
          },
          "metadata": {}
        },
        {
          "output_type": "display_data",
          "data": {
            "text/plain": [
              "<IPython.core.display.HTML object>"
            ],
            "text/html": [
              "<script src='https://www.gstatic.com/external_hosted/mathjax/latest/MathJax.js?config=default'></script>"
            ]
          },
          "metadata": {}
        },
        {
          "output_type": "display_data",
          "data": {
            "text/plain": [
              "<IPython.core.display.HTML object>"
            ],
            "text/html": [
              "<script src='https://www.gstatic.com/external_hosted/mathjax/latest/MathJax.js?config=default'></script>"
            ]
          },
          "metadata": {}
        }
      ],
      "source": [
        "# exercise option\n",
        "\n",
        "def proofExcercise():\n",
        "    solutions = [\"c\",\"c\",\"a\"] \n",
        "    #explains = [\"Explanation: This is because Cramer’s rule involves division by determinant which should never be equal to 0 leading to not defined numbers.\",\"Explanation: Generally, in large systems, excessive multiplicative operations are required which becomes very cumbersome to solve.\",\"Explaination: For the cramer's rule to applicable the matrix must be square (m = n) and be invertible.This is because Cramer’s rule involves division by determinant which should never be equal to 0 leading to not defined numbers.\"]\n",
        "    E = [\"Explanation: This is because Cramer’s rule involves division by determinant which should never be equal to 0 leading to not defined numbers.\",\"Explanation: Generally, in large systems, excessive multiplicative operations are required which becomes very cumbersome to solve.\",\"Explaination: For the cramer's rule to applicable the matrix must be square (m = n) and be invertible.This is because Cramer’s rule involves division by determinant which should never be equal to 0 leading to not defined numbers.\"]\n",
        "    More = True\n",
        "    while More:\n",
        "        qNum = int(random.randrange(0,2,1))\n",
        "        if(qNum == 0):\n",
        "            print(\"Cramer’s Rule fails for ___________\\na) Determinant > 0\\nb) Determinant < 0\\nc) Determinant = 0\\nd) Determinant = non-real\")\n",
        "        if(qNum == 1):\n",
        "            print(\"Cramer’s Rule is not suitable for which type of problems?\\na) Small systems with 4 unknowns\\nb) Systems with 2 unknowns\\nc) Large systems\\nd) Systems with 3 unknowns\")\n",
        "        if(qNum == 2):\n",
        "            print(\"For a system of m linear equations in n variables, the Cramer's rule is applicable when:\\na.  m = n and the co-efficient matrix is non-singular.\\nb. m > n only.\\nc. m > n and the co-efficient matrix is singular.\\nd. m = n only.\")\n",
        "            \n",
        "        ans = str(input(\"Answer: \"))\n",
        "        if(ans != solutions[qNum]):\n",
        "            print(\"Wrong Answer! You have one more trai.\\n\")\n",
        "            ans = str(input(\"Answer: \"))\n",
        "            if(ans != solutions[qNum]):\n",
        "                print(\"Wrong Answer!\\nThe Correct answer is: \",solutions[qNum])\n",
        "                print(E[qNum])\n",
        "            else:\n",
        "                print(\"You got it right!\")\n",
        "        else:\n",
        "            print(\"You got it right!\")\n",
        "        More = bool(input(\"To continue press 1 to return to exercises main menu press 0\"))\n",
        "\n",
        "\n",
        "            \n",
        "        \n",
        "     \n",
        "  \n"
      ]
    },
    {
      "cell_type": "code",
      "source": [
        "def printEquations(cofMatrix,constMatrix):\n",
        "  rowCount = 0\n",
        "  for row in cofMatrix:\n",
        "    count = 0\n",
        "    for c in row:\n",
        "      print(c , \"x{}\".format(get_sub(str(count))), end = \"\")\n",
        "      if(count < len(cofMatrix) -1): \n",
        "        print(' + ',end ='')\n",
        "      if(count == len(cofMatrix) - 1):\n",
        "        print(' = ', constMatrix[rowCount] ,end ='')\n",
        "      count = count +1\n",
        "    print()\n",
        "    rowCount = rowCount + 1\n",
        "\n",
        "def problemsExercise():\n",
        "  More = 1\n",
        "  while More == 1:\n",
        "    print(\"Solve the following system of linear equations. (Enter your answers as a space-separated list. If there is no solution or infinitely many solutions, type invalid .\")\n",
        "    a = int(random.randrange(2,3,1))\n",
        "    cofMatrix = np.random.randint(10, size=(a, a))\n",
        "    constMatrix = np.random.randint(10, size=(a))\n",
        "    cor_solution = solve_cramer(cofMatrix,constMatrix,0)\n",
        "    #print(cor_solution)\n",
        "    #print(cofMatrix)\n",
        "    #print(constMatrix)\n",
        "    printEquations(cofMatrix,constMatrix)\n",
        "    \n",
        "    while True:\n",
        "        Ans = [x for x in input(\"Answer: \").split()]\n",
        "        for i in range(len(Ans)):\n",
        "          if not Ans[i].isnumeric():\n",
        "            Ans[i] = float(fractions.Fraction(Ans[i]))\n",
        "\n",
        "        #print(Ans)\n",
        "        if Ans != cor_solution:\n",
        "            print(\"Wrong Answer!\\nPress 1 to try again or 2 to show correct answer.\\n\")\n",
        "            temp = int(input())\n",
        "            if temp == 2:\n",
        "                print(\"\\nThe correct answer:\")\n",
        "                solve_cramer(cofMatrix,constMatrix,1)\n",
        "                break;\n",
        "        else: \n",
        "            print(\"You got it right!!\\n\")\n",
        "            break;\n",
        "    More = int(input(\"To solve more problems press 1 to return to exercises main menu press 0\"))\n",
        "  if(More == 0):\n",
        "    excerciseMenu()\n",
        "\n",
        "def excerciseMenu():\n",
        "  print(\"\\nthis section of the project is dedicated to exercise your underestanding of cramer's rule\")\n",
        "  print(\"1. Check your underestanding of Cramer's Rule Proof\\n2. Check your underestanding of Cramer's rule applications.\\n\")\n",
        "  a = int(input())\n",
        "  if(a == 1):\n",
        "      proofExcercise()\n",
        "  if(a == 2):\n",
        "      problemsExercise()\n",
        "program_option = 3\n",
        "if program_option == 3:\n",
        "  excerciseMenu()\n",
        "      \n",
        "    "
      ],
      "metadata": {
        "colab": {
          "base_uri": "https://localhost:8080/",
          "height": 995
        },
        "id": "k7jheCFzcp2t",
        "outputId": "a2b85948-f06c-4bda-a5a6-9616414e05cb"
      },
      "execution_count": null,
      "outputs": [
        {
          "output_type": "display_data",
          "data": {
            "text/plain": [
              "<IPython.core.display.HTML object>"
            ],
            "text/html": [
              "<script src='https://www.gstatic.com/external_hosted/mathjax/latest/MathJax.js?config=default'></script>"
            ]
          },
          "metadata": {}
        },
        {
          "output_type": "display_data",
          "data": {
            "text/plain": [
              "<IPython.core.display.HTML object>"
            ],
            "text/html": [
              "<script src='https://www.gstatic.com/external_hosted/mathjax/latest/MathJax.js?config=default'></script>"
            ]
          },
          "metadata": {}
        },
        {
          "output_type": "display_data",
          "data": {
            "text/plain": [
              "<IPython.core.display.HTML object>"
            ],
            "text/html": [
              "<script src='https://www.gstatic.com/external_hosted/mathjax/latest/MathJax.js?config=default'></script>"
            ]
          },
          "metadata": {}
        },
        {
          "output_type": "display_data",
          "data": {
            "text/plain": [
              "<IPython.core.display.HTML object>"
            ],
            "text/html": [
              "<script src='https://www.gstatic.com/external_hosted/mathjax/latest/MathJax.js?config=default'></script>"
            ]
          },
          "metadata": {}
        },
        {
          "output_type": "display_data",
          "data": {
            "text/plain": [
              "<IPython.core.display.HTML object>"
            ],
            "text/html": [
              "<script src='https://www.gstatic.com/external_hosted/mathjax/latest/MathJax.js?config=default'></script>"
            ]
          },
          "metadata": {}
        },
        {
          "output_type": "display_data",
          "data": {
            "text/plain": [
              "<IPython.core.display.HTML object>"
            ],
            "text/html": [
              "<script src='https://www.gstatic.com/external_hosted/mathjax/latest/MathJax.js?config=default'></script>"
            ]
          },
          "metadata": {}
        },
        {
          "output_type": "stream",
          "name": "stdout",
          "text": [
            "\n",
            "this section of the project is dedicated to exercise your underestanding of cramer's rule\n",
            "1. Check your underestanding of Cramer's Rule Proof\n",
            "2. Check your underestanding of Cramer's rule applications.\n",
            "\n",
            "2\n",
            "Solve the following system of linear equations. (Enter your answers as a space-separated list. If there is no solution or infinitely many solutions, type invalid .\n",
            "4 x₀ + 7 x₁ =  2\n",
            "7 x₀ + 3 x₁ =  3\n",
            "Answer: 1 2\n",
            "Wrong Answer!\n",
            "Press 1 to try again or 2 to show correct answer.\n",
            "\n",
            "2\n",
            "\n",
            "The correct answer:\n",
            "X₀ =  0.40540540540540543\n",
            "X₁ =  0.05405405405405406\n",
            "Enter (Y) to see cramer's steps, otherwise, enter (N)y\n",
            "since the main matrix we have is: \n",
            "\n",
            "⎡4  7⎤\n",
            "⎢    ⎥\n",
            "⎣7  3⎦\n",
            "\n",
            " whose determinent =  -37.0\n",
            "for variable X{} its corresponding matrix is by replacing the main matrix column 0  by the constants matrix \n",
            "\n",
            "then, we get the matrix: \n",
            "\n",
            "⎡2  7⎤\n",
            "⎢    ⎥\n",
            "⎣3  3⎦\n",
            "\n",
            " whose determinent =  -15.0\n",
            "Then, according to Cramer's rule, we have X₀ = det(A₀) / det(A) =  -15.0 / -37.0 = 0.40540540540540543\n",
            "\n",
            "\n",
            "\n",
            "\n",
            "for variable X{} its corresponding matrix is by replacing the main matrix column 1  by the constants matrix \n",
            "\n",
            "then, we get the matrix: \n",
            "\n",
            "⎡4  2⎤\n",
            "⎢    ⎥\n",
            "⎣7  3⎦\n",
            "\n",
            " whose determinent =  -2.0\n",
            "Then, according to Cramer's rule, we have X₁ = det(A₁) / det(A) =  -2.0 / -37.0 = 0.05405405405405406\n",
            "\n",
            "\n",
            "\n",
            "\n"
          ]
        }
      ]
    },
    {
      "cell_type": "code",
      "execution_count": null,
      "metadata": {
        "id": "h66vMojt543H"
      },
      "outputs": [],
      "source": [
        "# exit option\n",
        "if program_option == 4:\n",
        "  print(\"thanks for using our program\")\n",
        "  exit(0)\n"
      ]
    }
  ],
  "metadata": {
    "colab": {
      "collapsed_sections": [],
      "provenance": [],
      "include_colab_link": true
    },
    "kernelspec": {
      "display_name": "Python 3",
      "name": "python3"
    },
    "language_info": {
      "name": "python"
    }
  },
  "nbformat": 4,
  "nbformat_minor": 0
}